{
 "cells": [
  {
   "cell_type": "markdown",
   "metadata": {},
   "source": [
    "# Herramientas para hacer ciencia con Python\n",
    "\n",
    "- Hay varias alternativas para la realización de calculo numérico y modelación científica con Python, pero quizá la opción mas popular es la combinación de librerías:\n",
    "  - numpy\n",
    "  - Scipy\n",
    "  - Matplotlib\n",
    "  \n",
    "- Un curso completo de trabajo numérico puede ser accedido libremente, en la pagina\n",
    "https://www.python-course.eu/index.php\n",
    "\n",
    "- El objetivo de los desarrolladores, es hacer de Python una herramienta competitiva frente a sus rivales comerciales. \n",
    "  - En el caso del trabajo numérico y análisis de datos, el principal competidor comercial es MATLAB.\n",
    "  - Siendo un software muy bueno y con una gran comunidad de soporte, por el hecho de ser software privativo, MATLAB carga los problemas intrínsecos de ese tipo de licencias.\n",
    "    - Los algoritmos son de carácter privado, y como tal no pueden ser vistos (no hay acceso al código fuente). Desde el punto de vista científico, esto es malo, puesto que no permite la revisión o peritaje. El usuario se ve obligado a tener fe en que el algoritmo ha sido correctamente implementado.\n",
    "    - El costo de las licencias es realmente alto, luego unicamente personas o grupos con fondos suficientes pueden hacer uso de los algoritmos implementados en MATLAB.\n",
    "    - Hay restricciones en la portabilidad del código, luego un código funcional en su maquina, puede no funcionar en otra maquina con una versión diferente del MATLAB\n",
    "    - Modificar el código no esta permitido.\n",
    "    - Extender la funcionabilidad es difícil, por la propia naturaleza de la licencia.\n",
    "    - La sintaxis utiliza paréntesis en lugar de corchetes para acceder a los elementos de un arreglo, lo cual va en la dirección contraria del estándar en programación. Adicionalmente, a  la lectura dicha sintaxis es confusa, pues es la misma que se utiliza para la evaluación de funciones.\n",
    "  - Python es software de código abierto y licencia libre. Adicionalmente, tiene características que le hacen competitivo frente a sus rivales.\n",
    "      - Tiene un diseño excelente, lo cual le permite tener una sintaxis intuitiva: Es fácil llevar los algoritmos al código.\n",
    "      - Posee mas tipos de datos: listas, tuplas, arreglos, etc... cada cual con sus características que le hacen adecuado para algún trabajo en particular.\n",
    "      - Usa espacios de nombre en todos los niveles: Python se estructura por módulos (librerías), que deben ser importadas antes de utilizar. Cada una con su propio espacio de nombres, lo que evita la anbigüedad en el uso de funciones.\n",
    "      - Soporta programación orientada a objetos, lo cuál provee un alto nivel de abstracción, que permite escribir de forma simple, lógicas complejas."
   ]
  },
  {
   "cell_type": "markdown",
   "metadata": {},
   "source": [
    "## Instalación\n",
    "Al ser Python un lenguaje de programación de proposito general, su instalación básica no suele incluir los módulos científicos por defecto. \n",
    "\n",
    "- Desde linux, instalar es tan fácil como buscar los paquetes de numpy, scipy y matplotlib en el administrador de paquetes de la distribución en uso.\n",
    "- Desde cualquier sistema, los paquetes pueden ser instalados en su ultima versión desde:\n",
    "    - numpy: www.numpy.org\n",
    "    - scipy: www.scipy.org\n",
    "    - matplotlib: www.matplotlib.org\n",
    "- numpy es un requisito para que las otras dos funcionen correctamente."
   ]
  },
  {
   "cell_type": "markdown",
   "metadata": {},
   "source": [
    "## Que son:\n",
    "\n",
    "- numpy: **Numerical Python** es la librería o modulo que contiene las herramientas necesarias para el trabajo numérico.\n",
    "- scipy: **Scientifical Python** es definida por sus autores como: *la librería fundamenta para el calculo científico*. Contiene herramientas especializadas para integración, derivación, interpolación, ajuste de datos, funciones especiales, etc...\n",
    "- matplotlib: El proyecto se define como: *una herramienta de grafícación en 2d para la producción de gráficas con calidad de publicación en una amplia variedad de formatos e itegrable en ambientes interactivos*.\n",
    "    - El modulo también puede grafícar en 3D (NO renderiza)\n",
    "    - Para usuarios de MATLAB, la librería posee una interfaz llamada pylab, que utiliza una sintaxis familiar y facilita la migración a matplotlib"
   ]
  },
  {
   "cell_type": "markdown",
   "metadata": {},
   "source": [
    "# numpy\n",
    "\n",
    "La estructura fundamental en numpy es el arreglo de datos **array**\n",
    "- Un arreglo es una tabla de elementos, todos del mismo tipo.\n",
    "    - Aunque el uso fundamental del arreglo es el almacenamiento de datos numéricos, numpy esta preparado para crear arreglos de todo tipo de datos, incluso de arreglos.\n",
    "    - Cada dimensión recibe el nombre de eje (axis).\n",
    "    - El número de ejes se llama rango."
   ]
  },
  {
   "cell_type": "code",
   "execution_count": 6,
   "metadata": {},
   "outputs": [
    {
     "name": "stdout",
     "output_type": "stream",
     "text": [
      "[1 2 3] <class 'numpy.ndarray'>\n",
      "3 (3,)\n",
      "6 (2, 3)\n"
     ]
    }
   ],
   "source": [
    "import numpy as np\n",
    "# Un arreglo de rango 1 y longitud 3\n",
    "a=np.array([1,2,3])\n",
    "print(a, type(a))\n",
    "print(a.size, a.shape)\n",
    "a=np.array([[1,2,3],[4,5,6]])\n",
    "print(a.size, a.shape)"
   ]
  },
  {
   "cell_type": "markdown",
   "metadata": {},
   "source": [
    "Pero podríamos tener un arreglo con caracteres"
   ]
  },
  {
   "cell_type": "code",
   "execution_count": 5,
   "metadata": {},
   "outputs": [
    {
     "name": "stdout",
     "output_type": "stream",
     "text": [
      "['hola' 'mundo'] <class 'numpy.ndarray'>\n",
      "2 (2,)\n"
     ]
    }
   ],
   "source": [
    "a=[\"hola\", \"mundo\"]\n",
    "a= np.array(a)\n",
    "print(a, type(a))\n",
    "print(a.size, a.shape)"
   ]
  },
  {
   "cell_type": "markdown",
   "metadata": {},
   "source": [
    "Un arreglo de arreglos:"
   ]
  },
  {
   "cell_type": "code",
   "execution_count": 7,
   "metadata": {},
   "outputs": [
    {
     "name": "stdout",
     "output_type": "stream",
     "text": [
      "[array([1, 2, 3]) ['hola', 'mundo']] <class 'numpy.ndarray'>\n",
      "2 (2,)\n"
     ]
    }
   ],
   "source": [
    "a=[np.array([1,2,3]),[\"hola\", \"mundo\"] ]\n",
    "a= np.array(a)\n",
    "print(a, type(a))\n",
    "print(a.size, a.shape)"
   ]
  },
  {
   "cell_type": "markdown",
   "metadata": {},
   "source": [
    "- Los arreglos son una clase, y como tal tiene atributos y métodos a los que podemos acceder\n",
    "- Algunas propiedades útiles:\n",
    "    - size: el numero de elementos que contiene el array\n",
    "    - ndim: el rango del array (numero de dimensiones o ejes)\n",
    "    - shape: forma en que se distribuyen los elementos\n",
    "    - dtype: tipo de variable que contiene el arreglo"
   ]
  },
  {
   "cell_type": "code",
   "execution_count": 7,
   "metadata": {},
   "outputs": [
    {
     "data": {
      "text/plain": [
       "6"
      ]
     },
     "execution_count": 7,
     "metadata": {},
     "output_type": "execute_result"
    }
   ],
   "source": [
    "a.max()"
   ]
  },
  {
   "cell_type": "code",
   "execution_count": 10,
   "metadata": {},
   "outputs": [
    {
     "name": "stdout",
     "output_type": "stream",
     "text": [
      "6 2 (2, 3) float64\n"
     ]
    },
    {
     "data": {
      "text/plain": [
       "array([[ 1.,  2.,  3.],\n",
       "       [ 3.,  2.,  1.]])"
      ]
     },
     "execution_count": 10,
     "metadata": {},
     "output_type": "execute_result"
    }
   ],
   "source": [
    "lista=[[1,2,3.],[3,2,1]]\n",
    "a=np.array(lista)\n",
    "print(a.size, a.ndim, a.shape, a.dtype)\n",
    "a"
   ]
  },
  {
   "cell_type": "markdown",
   "metadata": {},
   "source": [
    "- Algunos métodos:\n",
    "    - reshape: permite reorganizar los elementos del arreglo en distintas combinaciones\n",
    "    - max: reporta el máximo valor de un arreglo (numérico)\n",
    "    - min: el mínimo.\n",
    "    - mean: el promedio de las entradas del arreglo"
   ]
  },
  {
   "cell_type": "code",
   "execution_count": 12,
   "metadata": {},
   "outputs": [
    {
     "data": {
      "text/plain": [
       "array([ 0,  1,  2,  3,  4,  5,  6,  7,  8,  9, 10, 11])"
      ]
     },
     "execution_count": 12,
     "metadata": {},
     "output_type": "execute_result"
    }
   ],
   "source": [
    "np.arange(12)"
   ]
  },
  {
   "cell_type": "code",
   "execution_count": 13,
   "metadata": {},
   "outputs": [
    {
     "name": "stdout",
     "output_type": "stream",
     "text": [
      "matriz 2x6\n",
      " [[ 0  1  2  3  4  5]\n",
      " [ 6  7  8  9 10 11]]\n",
      "matriz 6x2\n",
      " [[ 0  1]\n",
      " [ 2  3]\n",
      " [ 4  5]\n",
      " [ 6  7]\n",
      " [ 8  9]\n",
      " [10 11]]\n",
      "tensor 3x2x2\n",
      " [[[ 0  1]\n",
      "  [ 2  3]]\n",
      "\n",
      " [[ 4  5]\n",
      "  [ 6  7]]\n",
      "\n",
      " [[ 8  9]\n",
      "  [10 11]]]\n"
     ]
    }
   ],
   "source": [
    "a=(np.arange(12)).reshape(2,6)\n",
    "print(\"matriz 2x6\\n\", a)\n",
    "print(\"matriz 6x2\\n\", a.reshape(6,2))\n",
    "print(\"tensor 3x2x2\\n\", a.reshape(3,2,2))"
   ]
  },
  {
   "cell_type": "code",
   "execution_count": 16,
   "metadata": {},
   "outputs": [
    {
     "name": "stdout",
     "output_type": "stream",
     "text": [
      "[[0 1 2]\n",
      " [3 4 5]\n",
      " [6 7 8]]\n",
      "8 0 4.0 12 [0 4 8]\n"
     ]
    },
    {
     "data": {
      "text/plain": [
       "array([2, 5, 8])"
      ]
     },
     "execution_count": 16,
     "metadata": {},
     "output_type": "execute_result"
    }
   ],
   "source": [
    "a=np.arange(9).reshape(3,3)\n",
    "print(a)\n",
    "print(a.max(), a.min(), a.mean(), a.trace(), a.diagonal())\n",
    "a.max(axis=1)"
   ]
  },
  {
   "cell_type": "markdown",
   "metadata": {},
   "source": [
    "## Crear arreglos\n",
    "\n",
    "- Los arreglos se crean de forma estándar a partir de una lista.\n",
    "- De forma \"inteligente\", Python escoge el tipo de argumento en función del contenido de la lista"
   ]
  },
  {
   "cell_type": "code",
   "execution_count": 19,
   "metadata": {},
   "outputs": [
    {
     "name": "stdout",
     "output_type": "stream",
     "text": [
      "[ 1.  2.  3.  4.]\n"
     ]
    }
   ],
   "source": [
    "lista=[1,2,3]\n",
    "a=np.array(lista)\n",
    "a.dtype\n",
    "b=np.linspace(1,4,4)\n",
    "print(b)"
   ]
  },
  {
   "cell_type": "markdown",
   "metadata": {},
   "source": [
    "- Pero se puede especificar el tipo de dato con la opción dtype"
   ]
  },
  {
   "cell_type": "code",
   "execution_count": 39,
   "metadata": {},
   "outputs": [
    {
     "data": {
      "text/plain": [
       "dtype('float64')"
      ]
     },
     "execution_count": 39,
     "metadata": {},
     "output_type": "execute_result"
    }
   ],
   "source": [
    "a=np.array(lista, dtype=np.float64)\n",
    "a.dtype"
   ]
  },
  {
   "cell_type": "markdown",
   "metadata": {},
   "source": [
    "También tenemos funciones auxiliares que ayudan a reservar la memoria en caso de que no se tenga aún conocido los datos del arreglo, pero si su tamaño"
   ]
  },
  {
   "cell_type": "code",
   "execution_count": 54,
   "metadata": {},
   "outputs": [
    {
     "data": {
      "text/plain": [
       "array([[ 0.,  0.],\n",
       "       [ 0.,  0.],\n",
       "       [ 0.,  0.]])"
      ]
     },
     "execution_count": 54,
     "metadata": {},
     "output_type": "execute_result"
    }
   ],
   "source": [
    "# matriz de ceros\n",
    "a=np.zeros((3,2))\n",
    "a"
   ]
  },
  {
   "cell_type": "code",
   "execution_count": 56,
   "metadata": {},
   "outputs": [
    {
     "data": {
      "text/plain": [
       "array([[ 1.,  1.,  1.],\n",
       "       [ 1.,  1.,  1.],\n",
       "       [ 1.,  1.,  1.]])"
      ]
     },
     "execution_count": 56,
     "metadata": {},
     "output_type": "execute_result"
    }
   ],
   "source": [
    "# matriz de unos\n",
    "np.ones((3,3))"
   ]
  },
  {
   "cell_type": "code",
   "execution_count": 22,
   "metadata": {},
   "outputs": [
    {
     "data": {
      "text/plain": [
       "array([[ 0.,  0.],\n",
       "       [ 0.,  0.]])"
      ]
     },
     "execution_count": 22,
     "metadata": {},
     "output_type": "execute_result"
    }
   ],
   "source": [
    "# matriz \"vacia\", queda con la información basura que ya se encuentra en la memoria\n",
    "np.empty((2,2))"
   ]
  },
  {
   "cell_type": "markdown",
   "metadata": {},
   "source": [
    "## Acceso a los elementos de un arreglo.\n",
    "- El acceso es similar a las demás secuencias que soporta Python."
   ]
  },
  {
   "cell_type": "code",
   "execution_count": 23,
   "metadata": {},
   "outputs": [
    {
     "data": {
      "text/plain": [
       "array([0, 1, 2, 3, 4, 5, 6, 7, 8])"
      ]
     },
     "execution_count": 23,
     "metadata": {},
     "output_type": "execute_result"
    }
   ],
   "source": [
    "a=np.arange(9)\n",
    "a"
   ]
  },
  {
   "cell_type": "markdown",
   "metadata": {},
   "source": [
    "- El primer elemento se indexa con el cero, y se sigue hasta el ultimo, que tiene indice $n-1$, con $n$ la longitud del arreglo"
   ]
  },
  {
   "cell_type": "code",
   "execution_count": 25,
   "metadata": {},
   "outputs": [
    {
     "name": "stdout",
     "output_type": "stream",
     "text": [
      "3\n",
      "[2 3 4 5 6]\n"
     ]
    }
   ],
   "source": [
    "# el elemento 4, tiene indice 4-1=3\n",
    "print (a[3])\n",
    "# todos los elementos, desde el primero hasta el indice 3\n",
    "print(a[2:7])"
   ]
  },
  {
   "cell_type": "code",
   "execution_count": 80,
   "metadata": {},
   "outputs": [
    {
     "name": "stdout",
     "output_type": "stream",
     "text": [
      "[2 3 4 5 6]\n",
      "8\n"
     ]
    }
   ],
   "source": [
    "# todos los elementos desde el indice 2 (tercero), hasta el indice $dim-1-2$\n",
    "print(a[2:-2])\n",
    "# El ultimo elemento\n",
    "print(a[-1])"
   ]
  },
  {
   "cell_type": "markdown",
   "metadata": {},
   "source": [
    "Acceder elementos de 2 en 2"
   ]
  },
  {
   "cell_type": "code",
   "execution_count": 100,
   "metadata": {},
   "outputs": [
    {
     "name": "stdout",
     "output_type": "stream",
     "text": [
      "[0 2 4 6 8] \n",
      "\n",
      "[1 4 7]\n"
     ]
    }
   ],
   "source": [
    "print(a[::2],\"\\n\")\n",
    "# o en un rango\n",
    "print(a[1:-1:3])"
   ]
  },
  {
   "cell_type": "markdown",
   "metadata": {},
   "source": [
    "- En caso de matrices, se admite una notación mas intuitiva"
   ]
  },
  {
   "cell_type": "code",
   "execution_count": 27,
   "metadata": {},
   "outputs": [
    {
     "name": "stdout",
     "output_type": "stream",
     "text": [
      "la matriz\n",
      " [[0 1 2]\n",
      " [3 4 5]\n",
      " [6 7 8]] \n",
      "\n",
      "1\n"
     ]
    },
    {
     "data": {
      "text/plain": [
       "1"
      ]
     },
     "execution_count": 27,
     "metadata": {},
     "output_type": "execute_result"
    }
   ],
   "source": [
    "a=a.reshape(3,3)\n",
    "# El elemento (0,1) primera fila, segunda columna, accedido en forma de lista\n",
    "print(\"la matriz\\n\",a,\"\\n\")\n",
    "print( a[0][1])\n",
    "# se puede acceder de forma mas intuitiva\n",
    "a[0,1]"
   ]
  },
  {
   "cell_type": "code",
   "execution_count": 30,
   "metadata": {},
   "outputs": [
    {
     "name": "stdout",
     "output_type": "stream",
     "text": [
      "[0 3 6] \n",
      "\n",
      "[0 1 2]\n"
     ]
    },
    {
     "data": {
      "text/plain": [
       "array([1, 2])"
      ]
     },
     "execution_count": 30,
     "metadata": {},
     "output_type": "execute_result"
    }
   ],
   "source": [
    "# columna 0 (primera)\n",
    "print(a[:,0],\"\\n\")\n",
    "# fila 0\n",
    "print(a[0,:])\n",
    "a[0,1:]"
   ]
  },
  {
   "cell_type": "markdown",
   "metadata": {},
   "source": [
    "- Se puede utilizar listas para seleccionar elementos de un arreglo.\n",
    "- Por cada dimensión o eje, se puede incluir una lista"
   ]
  },
  {
   "cell_type": "code",
   "execution_count": 33,
   "metadata": {},
   "outputs": [
    {
     "name": "stdout",
     "output_type": "stream",
     "text": [
      "[[0 1 2]\n",
      " [3 4 5]\n",
      " [6 7 8]] \n",
      "\n"
     ]
    }
   ],
   "source": [
    "lista=[0,2]\n",
    "print(a,\"\\n\")\n",
    "a[[0,2],[1,2]]\n",
    "b=[[1,2],[3,4]]"
   ]
  },
  {
   "cell_type": "markdown",
   "metadata": {},
   "source": [
    "## Copias y vistas\n",
    "- En Python, la memoria del sistema se optimiza creando vistas (o punteros) a las clases, en ves de crear copias."
   ]
  },
  {
   "cell_type": "code",
   "execution_count": 34,
   "metadata": {},
   "outputs": [
    {
     "name": "stdout",
     "output_type": "stream",
     "text": [
      "[0 1 2] [0 1 2]\n",
      "[10  1  2] [10  1  2]\n"
     ]
    }
   ],
   "source": [
    "a=np.arange(3)\n",
    "b=a\n",
    "print(a,b)\n",
    "b[0]=10\n",
    "print(a,b)"
   ]
  },
  {
   "cell_type": "markdown",
   "metadata": {},
   "source": [
    "Si se requiere una copia real (otro espacio de memoria con la misma información), se debe de utilizar el método copia"
   ]
  },
  {
   "cell_type": "code",
   "execution_count": 35,
   "metadata": {},
   "outputs": [
    {
     "name": "stdout",
     "output_type": "stream",
     "text": [
      "[0 1 2] [0 1 2]\n",
      "[0 1 2] [10  1  2]\n"
     ]
    }
   ],
   "source": [
    "a=np.arange(3)\n",
    "b=a.copy()\n",
    "print(a,b)\n",
    "b[0]=10\n",
    "print(a,b)"
   ]
  },
  {
   "cell_type": "markdown",
   "metadata": {},
   "source": [
    "## Operaciones básicas"
   ]
  },
  {
   "cell_type": "code",
   "execution_count": 36,
   "metadata": {},
   "outputs": [],
   "source": [
    "a=np.array([1,2,3])\n",
    "b=np.array([4,5,6])"
   ]
  },
  {
   "cell_type": "code",
   "execution_count": 37,
   "metadata": {},
   "outputs": [
    {
     "name": "stdout",
     "output_type": "stream",
     "text": [
      "suma [5 7 9]\n",
      "dos por  [1 2 3] es  [2 4 6]\n"
     ]
    }
   ],
   "source": [
    "# suma\n",
    "print(\"suma\",a+b)\n",
    "# multiplicación escalar\n",
    "print(\"dos por \",a,\"es \",2*a)"
   ]
  },
  {
   "cell_type": "markdown",
   "metadata": {},
   "source": [
    "- numpy define las operaciones y los operadores elemento a elemento:"
   ]
  },
  {
   "cell_type": "code",
   "execution_count": 5,
   "metadata": {},
   "outputs": [
    {
     "name": "stdout",
     "output_type": "stream",
     "text": [
      "suma 1 a cada elemento del arreglo [2 3 4]\n",
      "eleva al cuadrado cada elemento [1 4 9]\n"
     ]
    }
   ],
   "source": [
    "# vector o arreglo mas un escalar\n",
    "print(\"suma 1 a cada elemento del arreglo\",a+1)\n",
    "# funciones actuando sobre el arreglo\n",
    "print(\"eleva al cuadrado cada elemento\", a**2)"
   ]
  },
  {
   "cell_type": "code",
   "execution_count": 25,
   "metadata": {},
   "outputs": [
    {
     "name": "stdout",
     "output_type": "stream",
     "text": [
      "a*b no es el producto interno, [ 4 10 18] es el producto elemento a elemento\n",
      "el producto interno lo realizamos con la función dot: np.dot(a,b)= 32\n",
      "producto cruz axb [-3  6 -3]\n"
     ]
    }
   ],
   "source": [
    "# las operaciones matriciales requieren el llamado de la función correspondiente\n",
    "print(\"a*b no es el producto interno,\", a*b, \"es el producto elemento a elemento\")\n",
    "print(\"el producto interno lo realizamos con la función dot: np.dot(a,b)=\",np.dot(a,b))\n",
    "print(\"producto cruz axb\", np.cross(a,b))"
   ]
  },
  {
   "cell_type": "markdown",
   "metadata": {},
   "source": [
    "# Funciones matemáticas básicas"
   ]
  },
  {
   "cell_type": "code",
   "execution_count": 9,
   "metadata": {},
   "outputs": [
    {
     "name": "stdout",
     "output_type": "stream",
     "text": [
      "[ 0.84147098  0.90929743  0.14112001]\n",
      "[  2.71828183   7.3890561   20.08553692]\n"
     ]
    }
   ],
   "source": [
    "# basicas sin, cos, tan, arcsin, log, etc...\n",
    "print( np.sin(a) )\n",
    "print (np.exp(a) )"
   ]
  },
  {
   "cell_type": "markdown",
   "metadata": {},
   "source": [
    "## Implementación de calculo en los complejos\n",
    "- numpy viene preparado para trabajar en variable compleja"
   ]
  },
  {
   "cell_type": "code",
   "execution_count": 10,
   "metadata": {},
   "outputs": [],
   "source": [
    "a=a+b*1j"
   ]
  },
  {
   "cell_type": "code",
   "execution_count": 12,
   "metadata": {},
   "outputs": [
    {
     "data": {
      "text/plain": [
       "array([ 22.97908558 +14.74480519j,  67.47891524 -30.87943134j,\n",
       "        28.46611220-199.69451226j])"
      ]
     },
     "execution_count": 12,
     "metadata": {},
     "output_type": "execute_result"
    }
   ],
   "source": [
    "np.sin(a)"
   ]
  },
  {
   "cell_type": "code",
   "execution_count": 15,
   "metadata": {},
   "outputs": [
    {
     "name": "stdout",
     "output_type": "stream",
     "text": [
      "[ 1.  2.  3.] [ 4.  5.  6.]\n"
     ]
    }
   ],
   "source": [
    "print( np.real(a), np.imag(a))"
   ]
  },
  {
   "cell_type": "code",
   "execution_count": 23,
   "metadata": {},
   "outputs": [
    {
     "data": {
      "text/plain": [
       "array([ 1.-4.j,  2.-5.j,  3.-6.j])"
      ]
     },
     "execution_count": 23,
     "metadata": {},
     "output_type": "execute_result"
    }
   ],
   "source": [
    "a.conj()"
   ]
  },
  {
   "cell_type": "markdown",
   "metadata": {},
   "source": [
    "## Álgebra lineal\n",
    "- numpy viene con un sub módulo de álgebra lineal."
   ]
  },
  {
   "cell_type": "code",
   "execution_count": 26,
   "metadata": {},
   "outputs": [],
   "source": [
    "np.linalg?"
   ]
  },
  {
   "cell_type": "markdown",
   "metadata": {},
   "source": [
    "# Scipy\n",
    "El módulo scipy es una colección de algoritmos y funciones especiales, de uso habitual en ciencia. Esta librería esta construida sobre numpy.\n",
    "\n",
    "Los sub módulos de scipy:\n",
    "\n",
    "- cluster: Algoritmos para creación y manejo de clusters\n",
    "- constants: constantes físicas y matemáticas predefinidas.\n",
    "- fftpack: Rutinas que implementan la transformada de fourier en varios algoritmos.\n",
    "- integrate: integración numérica.\n",
    "- interpolate: Interpolación \n",
    "- io: entrada y salida de datos\n",
    "- linalg: álgebra lineal a través de LAPACK y BLAS\n",
    "- ndimage: Manejo de imagenes\n",
    "- odr: orthogonal distance regression\n",
    "- optimize: optimización y busqueda de raíces.\n",
    "- signal: procesamiento de señales\n",
    "- sparce: rutinas optimizadas para matrices sparce\n",
    "- special: implementación de funciones especiales\n",
    "\n",
    "Los sub módulos deben ser importados por separado."
   ]
  },
  {
   "cell_type": "markdown",
   "metadata": {},
   "source": [
    "## Integración\n",
    "\n",
    "- Podemos obtener un resumen de las funciones del modulo mediante la ayuda de Ipython o el comando help"
   ]
  },
  {
   "cell_type": "code",
   "execution_count": 38,
   "metadata": {},
   "outputs": [],
   "source": [
    "import scipy as sc\n",
    "import scipy.integrate as scint"
   ]
  },
  {
   "cell_type": "markdown",
   "metadata": {},
   "source": [
    "## Ejemplos ilustrativos.\n",
    "\n",
    "- Integración de funciones de una sola variable con quad "
   ]
  },
  {
   "cell_type": "code",
   "execution_count": 40,
   "metadata": {},
   "outputs": [],
   "source": [
    "scint.quad?"
   ]
  },
  {
   "cell_type": "code",
   "execution_count": 41,
   "metadata": {},
   "outputs": [],
   "source": [
    "def f(x):\n",
    "    return x**2"
   ]
  },
  {
   "cell_type": "code",
   "execution_count": 42,
   "metadata": {},
   "outputs": [
    {
     "data": {
      "text/plain": [
       "(0.33333333333333337, 3.700743415417189e-15)"
      ]
     },
     "execution_count": 42,
     "metadata": {},
     "output_type": "execute_result"
    }
   ],
   "source": [
    "scint.quad(f,0,1)"
   ]
  },
  {
   "cell_type": "markdown",
   "metadata": {},
   "source": [
    "- La rutina soporta la integración entre $\\pm \\infty$, si la función es de cuadrado integrable"
   ]
  },
  {
   "cell_type": "code",
   "execution_count": 43,
   "metadata": {},
   "outputs": [],
   "source": [
    "def f(x):\n",
    "    return np.exp(-x**2)"
   ]
  },
  {
   "cell_type": "code",
   "execution_count": 44,
   "metadata": {},
   "outputs": [
    {
     "data": {
      "text/plain": [
       "(1.7724538509055159, 1.4202636780944923e-08)"
      ]
     },
     "execution_count": 44,
     "metadata": {},
     "output_type": "execute_result"
    }
   ],
   "source": [
    "scint.quad(f, -np.inf, +np.inf)"
   ]
  },
  {
   "cell_type": "markdown",
   "metadata": {},
   "source": [
    "### ODE Problema de valores iniciales"
   ]
  },
  {
   "cell_type": "markdown",
   "metadata": {},
   "source": [
    "- scipy implementa la rutina odeint, para integrar sistemas de ecuaciones diferenciales de primer orden\n",
    "$$\n",
    "\\frac{\\text{d} \\mathbf{y}}{\\text{d} t} = \\mathbf{f}(\\mathbf{y}, t)\n",
    "$$\n",
    "\n",
    "- Como ejemplo, considere el sistema de ecuaciones diferenciales:\n",
    "\\begin{align}\n",
    "    \\frac{\\text{d} x}{\\text{d} t} = v, &&& \\frac{\\text{d} v}{\\text{d} t} = - \\omega^2 x\n",
    "\\end{align}"
   ]
  },
  {
   "cell_type": "code",
   "execution_count": 45,
   "metadata": {},
   "outputs": [],
   "source": [
    "# definimos el vector de funciones derivada\n",
    "def f(y,t):\n",
    "    omega= 1\n",
    "    return np.array([y[1], - omega * y[0]])"
   ]
  },
  {
   "cell_type": "code",
   "execution_count": 46,
   "metadata": {},
   "outputs": [],
   "source": [
    "# debemos especificar los tiempos en los que queremos tener evaluada las funciones\n",
    "tiempos= np.linspace(0,10,1000)\n",
    "# Planteamos una condición inicial\n",
    "yo=np.array([0,1])"
   ]
  },
  {
   "cell_type": "code",
   "execution_count": 48,
   "metadata": {},
   "outputs": [],
   "source": [
    "y= scint.odeint(f,yo,tiempos)"
   ]
  },
  {
   "cell_type": "code",
   "execution_count": 49,
   "metadata": {},
   "outputs": [
    {
     "data": {
      "text/plain": [
       "array([[ 0.        ,  1.        ],\n",
       "       [ 0.01000983,  0.9999499 ],\n",
       "       [ 0.02001867,  0.99979961],\n",
       "       ..., \n",
       "       [-0.5271149 , -0.8497942 ],\n",
       "       [-0.5355948 , -0.84447529],\n",
       "       [-0.54402103, -0.83907176]])"
      ]
     },
     "execution_count": 49,
     "metadata": {},
     "output_type": "execute_result"
    }
   ],
   "source": [
    "y"
   ]
  },
  {
   "cell_type": "markdown",
   "metadata": {},
   "source": [
    "Esto nos da los valores del sistema $(x,v)$ para los tiempos solicitados"
   ]
  },
  {
   "cell_type": "markdown",
   "metadata": {},
   "source": [
    "# Visualización de datos con matplotlib\n",
    "\n",
    "Para ver el resultado de la integración anterior de una forma mas clara, podemos hacer una gráfica. El módulo matplotlib es indicado para esto."
   ]
  },
  {
   "cell_type": "code",
   "execution_count": 50,
   "metadata": {},
   "outputs": [],
   "source": [
    "import matplotlib.pylab as plt\n",
    "plt.plot(tiempos,y)\n",
    "label=[\"x\",\"v\"]\n",
    "plt.legend(label)\n",
    "plt.show()"
   ]
  },
  {
   "cell_type": "markdown",
   "metadata": {},
   "source": [
    "## Optimización"
   ]
  },
  {
   "cell_type": "code",
   "execution_count": 55,
   "metadata": {},
   "outputs": [],
   "source": [
    "import scipy.optimize as scopt"
   ]
  },
  {
   "cell_type": "code",
   "execution_count": 56,
   "metadata": {},
   "outputs": [],
   "source": [
    "scopt.minimize?"
   ]
  },
  {
   "cell_type": "code",
   "execution_count": 66,
   "metadata": {},
   "outputs": [
    {
     "data": {
      "text/plain": [
       "      fun: 5.552228233152667e-17\n",
       " hess_inv: array([[ 0.5]])\n",
       "      jac: array([ -1.49391610e-12])\n",
       "  message: 'Optimization terminated successfully.'\n",
       "     nfev: 12\n",
       "      nit: 2\n",
       "     njev: 4\n",
       "   status: 0\n",
       "  success: True\n",
       "        x: array([ 1.99999999])"
      ]
     },
     "execution_count": 66,
     "metadata": {},
     "output_type": "execute_result"
    }
   ],
   "source": [
    "# Minimización\n",
    "def f(x):\n",
    "    return (x-2)**2\n",
    "\n",
    "scopt.minimize(f, 10)"
   ]
  },
  {
   "cell_type": "markdown",
   "metadata": {},
   "source": [
    "## Mínimos cuadrados y ajuste no lineal"
   ]
  },
  {
   "cell_type": "code",
   "execution_count": 57,
   "metadata": {},
   "outputs": [],
   "source": [
    "def f(x):\n",
    "    return np.exp(-(x-2)**2/2) + 0.1*(np.random.rand(len(x)) - 0.5)\n",
    "def f2(x):\n",
    "    return np.exp(-(x-2)**2/2)"
   ]
  },
  {
   "cell_type": "code",
   "execution_count": 58,
   "metadata": {},
   "outputs": [],
   "source": [
    "xx=np.linspace(-4,7,300)\n",
    "y=f(xx)\n",
    "plt.plot(xx,y,\"r.\")\n",
    "plt.show()"
   ]
  },
  {
   "cell_type": "markdown",
   "metadata": {},
   "source": [
    "- Definimos la función de ajuste"
   ]
  },
  {
   "cell_type": "code",
   "execution_count": 53,
   "metadata": {},
   "outputs": [],
   "source": [
    "def modelo(x, a, b, c):\n",
    "    return a*np.exp( -b* (x-c)**2)"
   ]
  },
  {
   "cell_type": "code",
   "execution_count": 59,
   "metadata": {},
   "outputs": [],
   "source": [
    "opt_fun=scopt.curve_fit(modelo,xx,y)"
   ]
  },
  {
   "cell_type": "markdown",
   "metadata": {},
   "source": [
    "- Ahora comparamos la curva con los datos experimentales"
   ]
  },
  {
   "cell_type": "code",
   "execution_count": 60,
   "metadata": {},
   "outputs": [],
   "source": [
    "a,b,c=opt_fun[0]\n",
    "x2=np.linspace(-4,7,1500)\n",
    "plt.plot(x2, modelo(x2,a,b,c), \"k-\", label=\"modelo\")\n",
    "plt.plot(xx,y,\"r.\", label=\"experimento\")\n",
    "plt.plot(x2, f2(x2), label=\"real\")\n",
    "plt.legend()\n",
    "plt.show()"
   ]
  },
  {
   "cell_type": "code",
   "execution_count": null,
   "metadata": {},
   "outputs": [],
   "source": []
  }
 ],
 "metadata": {
  "kernelspec": {
   "display_name": "Python 3",
   "language": "python",
   "name": "python3"
  },
  "language_info": {
   "codemirror_mode": {
    "name": "ipython",
    "version": 3
   },
   "file_extension": ".py",
   "mimetype": "text/x-python",
   "name": "python",
   "nbconvert_exporter": "python",
   "pygments_lexer": "ipython3",
   "version": "3.6.4"
  }
 },
 "nbformat": 4,
 "nbformat_minor": 1
}
